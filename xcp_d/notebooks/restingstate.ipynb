{
 "cells": [
  {
   "cell_type": "code",
   "execution_count": 1,
   "id": "1c71dd36",
   "metadata": {},
   "outputs": [
    {
     "name": "stderr",
     "output_type": "stream",
     "text": [
      "/Users/adebimpe/opt/anaconda3/lib/python3.8/site-packages/pybids-0.14.0rc1-py3.8.egg/bids/layout/validation.py:46: UserWarning: The ability to pass arguments to BIDSLayout that control indexing is likely to be removed in future; possibly as early as PyBIDS 0.14. This includes the `config_filename`, `ignore`, `force_index`, and `index_metadata` arguments. The recommended usage pattern is to initialize a new BIDSLayoutIndexer with these arguments, and pass it to the BIDSLayout via the `indexer` argument.\n",
      "  warnings.warn(\"The ability to pass arguments to BIDSLayout that control \"\n"
     ]
    },
    {
     "name": "stdout",
     "output_type": "stream",
     "text": [
      "211111-19:19:00,528 nipype.utils WARNING:\n",
      "\t A newer version (1.7.0) of nipy/nipype is available. You are using 1.6.1\n"
     ]
    }
   ],
   "source": [
    "import nibabel as nb\n",
    "from xcp_d.interfaces import ComputeAlff\n",
    "\n",
    "\n",
    "def get_ciftiTR(cifti_file):\n",
    "    import nibabel as nb\n",
    "    ciaxis = nb.load(cifti_file).header.get_axis(0)\n",
    "    return ciaxis.step"
   ]
  },
  {
   "cell_type": "code",
   "execution_count": 2,
   "id": "1421aa1d",
   "metadata": {},
   "outputs": [
    {
     "data": {
      "text/plain": [
       "<nipype.interfaces.base.support.InterfaceResult at 0x7f82c36a67f0>"
      ]
     },
     "execution_count": 2,
     "metadata": {},
     "output_type": "execute_result"
    }
   ],
   "source": [
    "## CIFTI\n",
    "# postprocessed dtseries after regression and filtering \n",
    "datadir= 'xcptest/sub-colornest001/ses-1/'\n",
    "dtseries = datadir + '/sub-colornest001_ses-1_task-rest_run-1_space-fsLR_den-91k_residual_bold.dtseries.nii'\n",
    " \n",
    "# get TR\n",
    "tr = get_ciftiTR(dtseries)\n",
    "\n",
    "computealff_wf = ComputeAlff()\n",
    "computealff_wf.inputs.in_file= dtseries\n",
    "computealff_wf.inputs.lowpass = 0.10\n",
    "computealff_wf.inputs.highpass = 0.01\n",
    "computealff_wf.inputs.tr = tr\n",
    "computealff_wf._results['alff_out'] = 'alff.dtseries.nii' # name the output as you want\n",
    "computealff_wf.run() \n",
    "\n"
   ]
  },
  {
   "cell_type": "code",
   "execution_count": 3,
   "id": "40ba0958",
   "metadata": {},
   "outputs": [
    {
     "data": {
      "text/plain": [
       "<nipype.interfaces.base.support.InterfaceResult at 0x7f82cace4b20>"
      ]
     },
     "execution_count": 3,
     "metadata": {},
     "output_type": "execute_result"
    }
   ],
   "source": [
    "## NIFTI\n",
    "niftifile = datadir + '/sub-colornest001_ses-1_task-rest_run-2_space-MNI152NLin2009cAsym_desc-residual_bold.nii.gz'\n",
    "mask =  datadir + '/sub-colornest001_ses-1_task-rest_run-2_space-MNI152NLin2009cAsym_desc-brain_mask.nii.gz'\n",
    "\n",
    "# get TR \n",
    "tr =nb.load(niftifile).header.get_zooms()[-1]\n",
    "\n",
    "#get alff \n",
    "\n",
    "computealff_wf = ComputeAlff()\n",
    "computealff_wf.inputs.in_file = niftifile\n",
    "computealff_wf.inputs.lowpass = 0.10\n",
    "computealff_wf.inputs.highpass = 0.01\n",
    "computealff_wf.inputs.mask = mask\n",
    "computealff_wf.inputs.tr = tr\n",
    "computealff_wf._results['alff_out'] = 'alff.nii.gz ' # name the output as you want\n",
    "computealff_wf.run() "
   ]
  },
  {
   "cell_type": "code",
   "execution_count": null,
   "id": "5d3e6145",
   "metadata": {},
   "outputs": [],
   "source": []
  }
 ],
 "metadata": {
  "kernelspec": {
   "display_name": "Python 3 (ipykernel)",
   "language": "python",
   "name": "python3"
  },
  "language_info": {
   "codemirror_mode": {
    "name": "ipython",
    "version": 3
   },
   "file_extension": ".py",
   "mimetype": "text/x-python",
   "name": "python",
   "nbconvert_exporter": "python",
   "pygments_lexer": "ipython3",
   "version": "3.8.12"
  }
 },
 "nbformat": 4,
 "nbformat_minor": 5
}
